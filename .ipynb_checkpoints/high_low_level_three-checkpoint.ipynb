{
 "cells": [
  {
   "cell_type": "code",
   "execution_count": 12,
   "id": "46e3807b",
   "metadata": {},
   "outputs": [
    {
     "name": "stdout",
     "output_type": "stream",
     "text": [
      "Pick a number between 1 and 103\n",
      "The computer guessed too much.\n",
      "The computer guessed too low.\n",
      "The computer guessed your number in 3 tries.\n"
     ]
    }
   ],
   "source": [
    "from statistics import median\n",
    "import random\n",
    "\n",
    "def play(): \n",
    "    player_number = int(input('Pick a number between 1 and 10'))\n",
    "    min_num, max_num = 1, 10\n",
    "    counter = 0\n",
    "    \n",
    "    while True: \n",
    "        computer_number = (min_num + max_num)//2\n",
    "        counter +=1\n",
    "        \n",
    "        if computer_number == player_number:\n",
    "            print(f'The computer guessed your number in {counter} tries.')\n",
    "            break\n",
    "        elif computer_number < player_number:\n",
    "            print('The computer guessed too low.')\n",
    "            min_num = computer_number +1\n",
    "        else: \n",
    "            print('The computer guessed too much.')\n",
    "            max_num = computer_number -1\n",
    "            \n",
    "            \n",
    "if __name__ == \"__main__\":\n",
    "    play()\n",
    "\n",
    "\n",
    "\n",
    "\n",
    "\n",
    "\n"
   ]
  },
  {
   "cell_type": "code",
   "execution_count": null,
   "id": "1a32b353",
   "metadata": {},
   "outputs": [],
   "source": []
  },
  {
   "cell_type": "code",
   "execution_count": null,
   "id": "8a768a55",
   "metadata": {},
   "outputs": [],
   "source": []
  }
 ],
 "metadata": {
  "kernelspec": {
   "display_name": "Python 3 (ipykernel)",
   "language": "python",
   "name": "python3"
  },
  "language_info": {
   "codemirror_mode": {
    "name": "ipython",
    "version": 3
   },
   "file_extension": ".py",
   "mimetype": "text/x-python",
   "name": "python",
   "nbconvert_exporter": "python",
   "pygments_lexer": "ipython3",
   "version": "3.11.1"
  }
 },
 "nbformat": 4,
 "nbformat_minor": 5
}
